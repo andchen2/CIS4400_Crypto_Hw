{
 "cells": [
  {
   "cell_type": "code",
   "execution_count": null,
   "id": "ea08e520",
   "metadata": {
    "scrolled": true
   },
   "outputs": [],
   "source": [
    "pip install yfinance"
   ]
  },
  {
   "cell_type": "code",
   "execution_count": null,
   "id": "0f28781b",
   "metadata": {},
   "outputs": [],
   "source": [
    "import yfinance as yf\n",
    "import pandas as pd\n",
    "from datetime import datetime\n",
    "\n",
    "# Define a dictionary of cryptocurrency tickers\n",
    "crypto_data = {\n",
    "    'Bitcoin': 'BTC-USD',\n",
    "    'Ethereum': 'ETH-USD',\n",
    "    'Tether USDt': 'USDT-USD',\n",
    "    'BNB': 'BNB-USD',\n",
    "    'XRP': 'XRP-USD',\n",
    "    'Solana': 'SOL-USD',\n",
    "    'USD Coin': 'USDC-USD',\n",
    "    'Lido Staked ETH': 'STETH-USD',\n",
    "    'Cardano': 'ADA-USD',\n",
    "    'Dogecoin': 'DOGE-USD',\n",
    "    'TRON': 'TRX-USD',\n",
    "    'Wrapped TRON': 'WTRX-USD',\n",
    "    'Toncoin': 'TON-USD',\n",
    "    'Chainlink': 'LINK-USD',\n",
    "    'Avalanche': 'AVAX-USD',\n",
    "    'Polygon': 'MATIC-USD',\n",
    "    'Polkadot': 'DOT-USD',\n",
    "    'Wrapped Bitcoin': 'WBTC-USD',\n",
    "    'Dai': 'DAI-USD',\n",
    "    'Litecoin': 'LTC-USD',\n",
    "}\n",
    "\n",
    "# Create an empty DataFrame to store the data\n",
    "df_crypto_data = pd.DataFrame()\n",
    "\n",
    "# Define the start and end dates\n",
    "start_date = '2023-01-01'\n",
    "end_date = datetime.now().strftime('%Y-%m-%d')\n",
    "\n",
    "# Loop through each cryptocurrency and fetch historical data\n",
    "for crypto_name, crypto_ticker in crypto_data.items():\n",
    "    # Download historical data\n",
    "    crypto_data = yf.download(crypto_ticker, start=start_date, end=end_date)\n",
    "    \n",
    "    # Add a 'Symbol' column to identify the cryptocurrency\n",
    "    crypto_data['Symbol'] = crypto_name\n",
    "    \n",
    "    # Print data for each cryptocurrency\n",
    "    print(f\"Data for {crypto_name}:\\n{crypto_data}\\n\")\n",
    "    \n",
    "    # Append the data to the main DataFrame\n",
    "    df_crypto_data = df_crypto_data.append(crypto_data)\n",
    "\n",
    "# Reset index for a clean DataFrame\n",
    "df_crypto_data.reset_index(inplace=True)\n",
    "\n",
    "# Display the DataFrame\n",
    "print(df_crypto_data.head())\n"
   ]
  },
  {
   "cell_type": "code",
   "execution_count": null,
   "id": "57ae68b8",
   "metadata": {},
   "outputs": [],
   "source": [
    "# Convert to CSV\n",
    "df_crypto_data.to_csv(\"crypto_data.csv\", index=False)"
   ]
  }
 ],
 "metadata": {
  "kernelspec": {
   "display_name": "Python 3 (ipykernel)",
   "language": "python",
   "name": "python3"
  },
  "language_info": {
   "codemirror_mode": {
    "name": "ipython",
    "version": 3
   },
   "file_extension": ".py",
   "mimetype": "text/x-python",
   "name": "python",
   "nbconvert_exporter": "python",
   "pygments_lexer": "ipython3",
   "version": "3.11.4"
  }
 },
 "nbformat": 4,
 "nbformat_minor": 5
}
